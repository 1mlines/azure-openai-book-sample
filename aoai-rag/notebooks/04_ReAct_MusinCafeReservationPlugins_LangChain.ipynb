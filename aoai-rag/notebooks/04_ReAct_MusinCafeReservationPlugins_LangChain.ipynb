{
 "cells": [
  {
   "cell_type": "markdown",
   "id": "1dd55b42",
   "metadata": {},
   "source": [
    "# 무신 카페 검색 & 예약 플러그인 예제(LangChain)\n",
    "서로 다른 2개의 툴을 ChatGPT 플러그인으로 공개하고, AI 오케스트레이터인 LangChain에서 호출하는 시스템을 구현하는 예제다. '최충헌과 관련된 카페의 이름을 검색하고, 7월 1일 18시에 예약할 수 있는지 알려줘'와 같이 여러 작업을 한 번의 지시로 해결할 수 있는 시스템을 구축할 것이다.\n",
    "\n",
    "![](./images/04_001.png)\n"
   ]
  },
  {
   "cell_type": "markdown",
   "id": "9ddfe1f2",
   "metadata": {},
   "source": [
    "# 사전 준비\n",
    "\n",
    "이 파이썬 예제를 실행하려면 다음과 같은 환경이 필요하다:\n",
    "\n",
    "- Azure OpenAI Service를 사용할 수 있는 [승인 완료](https://aka.ms/oai/access)된 Azure 구독\n",
    "- Azure OpenAI Service 연동 및 모델 정보\n",
    "  - OpenAI API 키\n",
    "  - OpenAI `gpt-4` 혹은 `gpt-4o` 모델의 배포 이름\n",
    "  - OpenAI API 버전\n",
    "- Python (이 예제는 버전 3.12.4로 테스트 했다.)\n",
    "\n",
    "<div class=\"alert alert-block alert-success\"><b>Note:</b> 고도화된 Reasoning을 정확도 높게 수행하려면 GPT-4o 모델을 사용하는 것을 권장한다.</div>\n",
    "\n",
    "이 예제에서는 Visual Studio Code와 [Jupyter extension](https://marketplace.visualstudio.com/items?itemName=ms-toolsai.jupyter)를 사용한다."
   ]
  },
  {
   "cell_type": "markdown",
   "id": "a37f03fa",
   "metadata": {},
   "source": [
    "\n",
    "## 설정\n",
    "\n",
    "다음 플러그인들을 실행시켜 놓는다.\n",
    "- cafe-review-plugin\n",
    "- restaurant-reservation-plugin\n",
    "\n",
    "각각의 플러그인 디렉토리(`plugins/`)에 들어가 아래 커맨드를 실행한다.\n",
    "\n",
    "```bash\n",
    "pip install -r requirements.txt\n",
    "```\n",
    "\n",
    "라이브러리 설치가 완료되면\n",
    "\n",
    "```bash\n",
    "python main.py\n",
    "```\n",
    "\n",
    "로 서버를 실행한다."
   ]
  },
  {
   "cell_type": "markdown",
   "id": "fc154f6f",
   "metadata": {},
   "source": [
    "## 패키지 설치"
   ]
  },
  {
   "cell_type": "code",
   "execution_count": null,
   "id": "b1fbbc96",
   "metadata": {},
   "outputs": [],
   "source": [
    "!pip install openai==1.35.3\n",
    "!pip install langchain==0.2.5\n",
    "!pip install langchain-openai==0.1.9\n",
    "!pip install langchain-community==0.2.5"
   ]
  },
  {
   "cell_type": "code",
   "execution_count": null,
   "id": "0096761c",
   "metadata": {},
   "outputs": [],
   "source": [
    "import openai\n",
    "print(\"openai\", openai.__version__)\n",
    "import langchain\n",
    "print(\"langchain\", langchain.__version__)"
   ]
  },
  {
   "cell_type": "markdown",
   "id": "a7e3e436",
   "metadata": {},
   "source": [
    "## 라이브러리 및 환경변수 불러오기"
   ]
  },
  {
   "cell_type": "code",
   "execution_count": null,
   "id": "e435760a",
   "metadata": {},
   "outputs": [],
   "source": [
    "# from langchain_openai import ChatOpenAI #If you use OpenAI's API\n",
    "from langchain_openai import AzureChatOpenAI\n",
    "from langchain import hub\n",
    "from langchain.agents import (\n",
    "    load_tools,\n",
    "    AgentExecutor,\n",
    "    create_react_agent\n",
    ")\n",
    "from langchain_community.tools import AIPluginTool\n",
    "\n",
    "from requests.exceptions import ConnectionError"
   ]
  },
  {
   "cell_type": "markdown",
   "id": "9087722c",
   "metadata": {},
   "source": [
    "## Azure OpenAI 설정"
   ]
  },
  {
   "cell_type": "code",
   "execution_count": null,
   "id": "b221c621",
   "metadata": {},
   "outputs": [],
   "source": [
    "AZURE_OPENAI_API_KEY = \"Your OpenAI API Key\"\n",
    "AZURE_OPENAI_ENDPOINT = \"https://<Your OpenAI Service>.openai.azure.com/\"\n",
    "AZURE_OPENAI_CHATGPT_DEPLOYMENT = \"gpt-4o\""
   ]
  },
  {
   "cell_type": "code",
   "execution_count": null,
   "id": "2cc7bfb9",
   "metadata": {},
   "outputs": [],
   "source": [
    "# If you use OpenAI's API\n",
    "#import os\n",
    "#os.environ[\"OPENAI_API_KEY\"] = \"<Your OpenAI KEY>\""
   ]
  },
  {
   "cell_type": "markdown",
   "id": "245cd4a8",
   "metadata": {},
   "source": [
    "# Tool 불러오기\n",
    "ChatGPT Plugin을 불러오기 위해 AIPluginTool에 등록한다."
   ]
  },
  {
   "cell_type": "code",
   "execution_count": null,
   "id": "5a52e1ae",
   "metadata": {
    "scrolled": true
   },
   "outputs": [],
   "source": [
    "# If you use OpenAI's API\n",
    "# llm = ChatOpenAI(model_name=\"gpt-4-0613\", temperature=0)\n",
    "\n",
    "llm = AzureChatOpenAI(\n",
    "    azure_deployment=AZURE_OPENAI_CHATGPT_DEPLOYMENT,\n",
    "    api_version=\"2024-02-01\",\n",
    "    azure_endpoint=AZURE_OPENAI_ENDPOINT,\n",
    "    openai_api_key=AZURE_OPENAI_API_KEY,\n",
    "    # azure_ad_token_provider=self.openai_ad_token,\n",
    "    temperature=0.0,\n",
    ")\n",
    "tools = load_tools([\"requests_all\"])\n",
    "plugin_urls = [\n",
    "    \"http://localhost:5005/.well-known/ai-plugin.json\",\n",
    "    \"http://localhost:5006/.well-known/ai-plugin.json\",\n",
    "]\n",
    "\n",
    "tools += [AIPluginTool.from_plugin_url(url) for url in plugin_urls]"
   ]
  },
  {
   "cell_type": "markdown",
   "id": "0fb48b23",
   "metadata": {},
   "source": [
    "# Agent 초기화\n",
    "\n",
    "[ReAct 에이전트](https://api.python.langchain.com/en/latest/agents/langchain.agents.react.agent.create_react_agent.html)를 사용한다. 제약조건은 SUFFIX에 추가한다.\n"
   ]
  },
  {
   "cell_type": "code",
   "execution_count": null,
   "id": "7f531d6b",
   "metadata": {},
   "outputs": [],
   "source": [
    "SUFFIX = \"\"\"\n",
    "'Answer should be in Korean. Use http instead of https for endpoint.\n",
    "If there is no year in the reservation, use the year 2023. \n",
    "\"\"\"\n",
    "prompt = hub.pull(\"hwchase17/react\")\n",
    "\n",
    "# Responsible AI MetaPrompt\n",
    "# **IMPORTANT**\n",
    "# If a restaurant reservation is available, must check with the user before making a reservation if yes.'\n",
    "\n",
    "agent = create_react_agent(llm, tools, prompt + SUFFIX)\n",
    "agent_executor = AgentExecutor(\n",
    "    agent=agent, \n",
    "    tools=tools, \n",
    "    verbose=True, \n",
    "    handle_parsing_errors=True,\n",
    "    max_iterations=5,\n",
    "    early_stopping_method=\"generate\"\n",
    ")"
   ]
  },
  {
   "cell_type": "markdown",
   "id": "0bc0978e",
   "metadata": {},
   "source": [
    "# 실행\n",
    "오래 기다려도 응답이 오지 않을 때는, GPT-4o 모델을 사용하면 성공 확률을 높일 수 있다. GPT-35-Turbo는 시스템 메시지를 잘 작성해야 성공 확률이 높아진다."
   ]
  },
  {
   "cell_type": "code",
   "execution_count": null,
   "id": "05529ad1",
   "metadata": {
    "scrolled": true
   },
   "outputs": [],
   "source": [
    "try:\n",
    "    result = agent_executor.invoke({\"input\": \"최충헌과 관련된 카페의 이름을 검색해줘.\"})\n",
    "    print(result)\n",
    "except ConnectionError as e:\n",
    "    print(\"죄송합니다. 잘 모르겠습니다(ConnectionError).\", e)\n",
    "except Exception as e:\n",
    "    print(\"죄송합니다. 잘 모르겠습니다(Error).\", e)"
   ]
  },
  {
   "cell_type": "code",
   "execution_count": null,
   "id": "d0dde152",
   "metadata": {
    "scrolled": true
   },
   "outputs": [],
   "source": [
    "try:\n",
    "    result = agent_executor.invoke({\"input\": \"최충헌과 관련된 카페의 이름을 검색하고, 7월 1일 18시에 예약할 수 있는지 알려줘. 예약이 가능하면 예약해줘.\"})\n",
    "    print(result)\n",
    "except ConnectionError as e:\n",
    "    print(\"죄송합니다. 잘 모르겠습니다(ConnectionError).\", e)\n",
    "except Exception as e:\n",
    "    print(\"죄송합니다. 잘 모르겠습니다(Error).\", e)\n"
   ]
  },
  {
   "cell_type": "code",
   "execution_count": null,
   "id": "dae11aa2",
   "metadata": {
    "scrolled": true
   },
   "outputs": [],
   "source": [
    "try:\n",
    "    result = agent_executor.invoke({\"input\": \"Escape room 카페에 7월 1일 18시로 예약해줘.\"})\n",
    "    print(result)\n",
    "except ConnectionError as e:\n",
    "    print(\"죄송합니다. 잘 모르겠습니다(ConnectionError).\", e)\n",
    "except Exception as e:\n",
    "    print(\"죄송합니다. 잘 모르겠습니다(Error).\", e)\n"
   ]
  }
 ],
 "metadata": {
  "kernelspec": {
   "display_name": "Python 3 (ipykernel)",
   "language": "python",
   "name": "python3"
  },
  "language_info": {
   "codemirror_mode": {
    "name": "ipython",
    "version": 3
   },
   "file_extension": ".py",
   "mimetype": "text/x-python",
   "name": "python",
   "nbconvert_exporter": "python",
   "pygments_lexer": "ipython3",
   "version": "3.12.4"
  }
 },
 "nbformat": 4,
 "nbformat_minor": 5
}
