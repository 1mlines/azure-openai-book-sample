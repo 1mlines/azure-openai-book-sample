{
 "cells": [
  {
   "cell_type": "markdown",
   "id": "eb299f82-f4b1-4f85-9195-07724f6dd4cb",
   "metadata": {},
   "source": [
    "# Vector search with LangChain (Azure AI Search)\n",
    "이 노트북에서는 LangChain을 통해 Azure AI Search의 검색 기능들을 사용해 볼 것이다.\n",
    "\n",
    "- 키워드 검색\n",
    "- 벡터 검색\n",
    "- 하이브리드 검색\n",
    "- 시맨틱 하이브리드 검색\n",
    "\n"
   ]
  },
  {
   "cell_type": "markdown",
   "id": "38c68a5b",
   "metadata": {},
   "source": [
    "# 사전 준비\n",
    "이 파이썬 예제를 실행하려면 다음과 같은 환경이 필요하다:\n",
    "- Azure AI Search 리소스의 엔드포인트 및 쿼리 API 키\n",
    "- Azure OpenAI Service를 사용할 수 있는 [승인 완료](https://aka.ms/oai/access)된 Azure 구독\n",
    "- Azure OpenAI Service에 배포된 `text-embedding-ada-002` Embeddings 모델. 이 모델의 API 버전은 `2023-05-15`을 사용했다. 배포 이름은 모델 이름과 동일하게 `text-embedding-ada-002`로 명명했다.\n",
    "- Azure OpenAI Service 연동 및 모델 정보\n",
    "  - OpenAI API 키\n",
    "  - OpenAI Embeddings 모델의 배포 이름\n",
    "  - OpenAI API 버전\n",
    "- Python (이 예제는 버전 3.10.x로 테스트 했다.)\n",
    "\n",
    "이 예제에서는 Visual Studio Code와 [Jupyter extension](https://marketplace.visualstudio.com/items?itemName=ms-toolsai.jupyter)를 사용한다."
   ]
  },
  {
   "cell_type": "markdown",
   "id": "1e7c8bef",
   "metadata": {},
   "source": [
    "## 패키지 설치"
   ]
  },
  {
   "cell_type": "markdown",
   "id": "807ce31a",
   "metadata": {},
   "source": [
    "<div class=\"alert alert-block alert-success\">\n",
    "<b>Note:</b> LangChain의 pull request <a href=\"https://github.com/langchain-ai/langchain/pull/14789\">#14789</a>가 릴리즈에 포함되기 전까지는 azure-search-documents==11.4.0b8를 사용해야 한다.</div>\n"
   ]
  },
  {
   "cell_type": "code",
   "execution_count": null,
   "id": "da1d9bbd-e2b9-451a-a872-56f19430d0e6",
   "metadata": {
    "scrolled": true
   },
   "outputs": [],
   "source": [
    "!pip uninstall -y azure-search-documents\n",
    "!pip install azure-search-documents==11.4.0b8\n",
    "#pip install azure-search-documents==11.4.0"
   ]
  },
  {
   "cell_type": "code",
   "execution_count": null,
   "id": "8177d775",
   "metadata": {},
   "outputs": [],
   "source": [
    "!pip install openai[datalib]==1.3.9\n",
    "!pip install langchain==0.0.350"
   ]
  },
  {
   "cell_type": "code",
   "execution_count": null,
   "id": "3c6ef945-8aa3-4538-8bf7-662c01bdf397",
   "metadata": {
    "scrolled": true
   },
   "outputs": [],
   "source": [
    "import azure.search.documents\n",
    "print(\"azure.search.documents\", azure.search.documents.__version__)\n",
    "import openai\n",
    "print(\"openai\", openai.__version__)\n",
    "import langchain\n",
    "print(\"langchain\", langchain.__version__)"
   ]
  },
  {
   "cell_type": "markdown",
   "id": "524420cf",
   "metadata": {},
   "source": [
    "## 라이브러리 및 환경변수 불러오기"
   ]
  },
  {
   "cell_type": "code",
   "execution_count": null,
   "id": "94c62e8d-9891-4fde-a989-9bb040e1558f",
   "metadata": {},
   "outputs": [],
   "source": [
    "import os\n",
    "\n",
    "os.environ[\"AZURESEARCH_FIELDS_CONTENT\"]=\"content\"\n",
    "os.environ[\"AZURESEARCH_FIELDS_CONTENT_VECTOR\"]=\"embedding\"\n",
    "\n",
    "from langchain.embeddings.azure_openai import AzureOpenAIEmbeddings\n",
    "from langchain.vectorstores.azuresearch import AzureSearch"
   ]
  },
  {
   "cell_type": "markdown",
   "id": "8c014e02",
   "metadata": {},
   "source": [
    "## 연동 설정"
   ]
  },
  {
   "cell_type": "code",
   "execution_count": null,
   "id": "652d5c38-7c3d-4849-8079-6f4bcc144a2b",
   "metadata": {},
   "outputs": [],
   "source": [
    "vector_store_address: str = \"<Your search service endpoint>\"\n",
    "vector_store_password: str = \"<Your search service query key>\"\n",
    "\n",
    "os.environ[\"AZURE_OPENAI_API_KEY\"] = \"Your OpenAI API Key\"\n",
    "os.environ[\"AZURE_OPENAI_ENDPOINT\"] = \"https://<Your OpenAI Service>.openai.azure.com/\"\n",
    "\n",
    "model: str = \"embedding\" # 자동 구축시 기본으로 설정\n",
    "index_name: str = \"gptkbindex\" # 자동 구축시 기본으로 설정\n"
   ]
  },
  {
   "cell_type": "code",
   "execution_count": null,
   "id": "59d75f51",
   "metadata": {},
   "outputs": [],
   "source": [
    "embeddings = AzureOpenAIEmbeddings(\n",
    "    azure_deployment=model,\n",
    "    openai_api_version=\"2024-02-01\"\n",
    ")\n",
    "\n",
    "vector_store: AzureSearch = AzureSearch(\n",
    "    azure_search_endpoint=vector_store_address,\n",
    "    azure_search_key=vector_store_password,\n",
    "    index_name=index_name,\n",
    "    embedding_function=embeddings.embed_query,\n",
    "    semantic_configuration_name=\"default\"\n",
    ")"
   ]
  },
  {
   "cell_type": "markdown",
   "id": "1e85da5c-77b3-45b2-9dd4-e5dd128ccb41",
   "metadata": {},
   "source": [
    "# 1. キーワード検索\n",
    "最もシンプルなキーワード検索のクエリーです。`ja.lucene` というスタンダードな日本語アナライザーに搭載されている辞書ベースのトークナイザーによって、これらのトークンに分解されます。このトークンを用いて転置インデックスが構築されます。\n",
    "\n",
    "次に TF/IDF ベースの [BM25](https://ja.wikipedia.org/wiki/Okapi_BM25) スコアリングアルゴリズムによって、文章中からトークンの一致頻度を見て関連性スコアが決定されます。細かくはトークンのレア度や文章中の密度なども重みづけされます。キーワード検索では、わざとスペルミスしたので、**源実朝**という一つのトークンにならずに、**一文字ずつのトークンになって関係ない人名の部分でヒット**してしまったりしてますね。また、「特徴」というワードをそのまま検索しており、文章中に「和歌の特徴」とあからさまに書いていない限りこのワードは意味を成しません。残念ながらこの検索方法では、「和歌の特徴を知りたい」というユーザーの意図は考慮されません。"
   ]
  },
  {
   "cell_type": "code",
   "execution_count": null,
   "id": "ec703c22-5016-494f-b548-1996f279fe86",
   "metadata": {
    "scrolled": true
   },
   "outputs": [],
   "source": [
    "from langchain.retrievers import AzureCognitiveSearchRetriever\n",
    "\n",
    "query = \"源実友のお歌にはどのような特徴があったのでしょうか？\"\n",
    "retriever = AzureCognitiveSearchRetriever(\n",
    "    service_name=\"gptkb-xxxxxxxxx\", #Your Azure AI Search service name\n",
    "    index_name=index_name,\n",
    "    api_key=vector_store_password,\n",
    "    content_key=\"content\",\n",
    "    top_k=3,\n",
    ")\n",
    "\n",
    "docs = retriever.get_relevant_documents(query)\n",
    "for doc in docs:\n",
    "    print(doc.metadata[\"sourcepage\"])\n",
    "    print(doc.metadata[\"@search.score\"])\n",
    "    print(doc.page_content)\n",
    "    "
   ]
  },
  {
   "cell_type": "markdown",
   "id": "0cda9f83-1e4d-437f-82e3-515258dcce9d",
   "metadata": {},
   "source": [
    "# 2. 벡터 유사도 검색"
   ]
  },
  {
   "cell_type": "markdown",
   "id": "38d47ed0-380f-4ccd-a7c4-9d4e08569a06",
   "metadata": {},
   "source": [
    "# 2.1. 간단한 벡터 검색\n",
    "'최**무**가 간행에 기여한**경전**에는 어떤 특징이 있나요?'처럼 일부러 철자를 틀리게 입력하고 불교 경전을 경전이라고만 작성한 쿼리로 검색을 해보자. `text-embeddings-ada-002`로 생성한 벡터를 검색하면 일치하는 키워드를 찾는데 얽매이지 않고 문장의 유사도만을 고려해서 검색한다. 오타도 적절하게 무시하면서 검색하는 것을 확인할 수 있다. 원하는 답변은 불교 경전의 특징에 대한 것이다."
   ]
  },
  {
   "cell_type": "code",
   "execution_count": null,
   "id": "92f3092d-ced3-4c3e-b3ad-59c7d045585c",
   "metadata": {},
   "outputs": [],
   "source": [
    "query = \"최무가 간행에 기여한 경전에는 어떤 특징이 있나요?\"  \n",
    "\n",
    "docs = vector_store.similarity_search(\n",
    "    query=query,\n",
    "    k=3,\n",
    "    search_type=\"similarity\",\n",
    ")\n",
    "\n",
    "for doc in docs:\n",
    "    print(doc.metadata[\"sourcepage\"])\n",
    "    print(doc.metadata[\"@search.score\"])\n",
    "    print(doc.page_content)"
   ]
  },
  {
   "cell_type": "markdown",
   "id": "ab2500ed-c144-48ba-adf3-a1108f7af3f7",
   "metadata": {},
   "source": [
    "## 2.1.1. 다국어 처리\n",
    "`text-embeddings-ada-002`의 다국어 처리 능력을 확인하기 위해 한국어 문서를 영어로 검색해보자."
   ]
  },
  {
   "cell_type": "code",
   "execution_count": null,
   "id": "fc224552-6d61-4824-8cd8-6dd22b2cc6ab",
   "metadata": {
    "scrolled": true
   },
   "outputs": [],
   "source": [
    "query = \"What are the characteristics of the sutras that Ch'oe U contributed to publication?\"  \n",
    "\n",
    "docs = vector_store.similarity_search(\n",
    "    query=query,\n",
    "    k=3,\n",
    "    search_type=\"similarity\",\n",
    ")\n",
    "\n",
    "for doc in docs:\n",
    "    print(doc.metadata[\"sourcepage\"])\n",
    "    print(doc.metadata[\"@search.score\"])\n",
    "    print(doc.page_content)"
   ]
  },
  {
   "cell_type": "markdown",
   "id": "4e0c43f9-ec15-41a7-bd36-244be63145cb",
   "metadata": {},
   "source": [
    "# 2.2. 하이브리드 검색\n",
    "하이브리드 검색은 키워드 검색과 벡터 검색 모두를 쿼리에 사용한다. 키워드 검색 스코어를 구할 떄는 Okapi BM25 알고리즘을 사용해서 스코어를 계산하고, 벡터 검색에는 코사인 유사도를 기준으로 스코어를 계산한다. 이 서로 다른 계산 결과를 융합하는 방법으로는 [Reciprocal Rank Fusion(RRF)](https://learn.microsoft.com/azure/search/hybrid-search-ranking)을 사용한다. RRF는 두 방식으로 계산한 문서 랭크의 역수의 합을 구해서 문서 순위를 기준으로 어느 쪽의 랭크라도 상위에 있는 쪽이 스코어가 높아지는 구조다."
   ]
  },
  {
   "cell_type": "code",
   "execution_count": null,
   "id": "2318cff5-7c4d-45d2-9252-3fac51e5eaa7",
   "metadata": {
    "scrolled": true
   },
   "outputs": [],
   "source": [
    "query = \"최우는 무신이었음에도 A와 B에 능숙했다. A와 B는 무엇일까?\"  \n",
    "# Perform a hybrid search\n",
    "docs = vector_store.similarity_search(\n",
    "    query=query,\n",
    "    k=5,\n",
    "    search_type=\"hybrid\",\n",
    ")\n",
    "\n",
    "for doc in docs:\n",
    "    print(doc.metadata[\"sourcepage\"])\n",
    "    print(doc.metadata[\"@search.score\"])\n",
    "    print(doc.page_content)\n"
   ]
  },
  {
   "cell_type": "code",
   "execution_count": null,
   "id": "973ce3a2",
   "metadata": {},
   "outputs": [],
   "source": [
    "query = \"최우는 무신이었음에도 A와 B에 능숙했다. A와 B는 무엇일까?\"  \n",
    "# similarity_search에 search_type=\"hybrid\"를 지정하는 것과 동일하다.\n",
    "docs = vector_store.hybrid_search(\n",
    "    query=query,\n",
    "    k=5\n",
    ")\n",
    "\n",
    "for doc in docs:\n",
    "    print(doc.metadata[\"sourcepage\"])\n",
    "    print(doc.metadata[\"@search.score\"])\n",
    "    print(doc.page_content)"
   ]
  },
  {
   "cell_type": "markdown",
   "id": "293733e4",
   "metadata": {},
   "source": [
    "# 2.3 시맨틱 하이브리드 검색\n",
    "시맨틱 하이브리드 검색(하이브리드 검색 + 시맨틱 순위 책정)은 Azure AI Search에서만 지원하는 검색 기능으로, 하이브리드 검색과 검색 결과를 정확도가 높은 순서로 정렬하는 순위 재책정 기능(시맨틱 순위 책정)을 조합한 고도화된 검색 방법이다. 순위 재책정에는 마이크로소프트가 만든 언어 모델인 [Turing](https://techcommunity.microsoft.com/t5/ai-azure-ai-services-blog/introducing-multilingual-support-for-semantic-search-on-azure/ba-p/2385110) 모델을 사용한다."
   ]
  },
  {
   "cell_type": "markdown",
   "id": "ee52e091",
   "metadata": {},
   "source": [
    "<div class=\"alert alert-block alert-success\">\n",
    "<b>Note:</b> LangChain의 Issues <a href=\"https://github.com/langchain-ai/langchain/issues/15355\">#15355</a>가 해결될 때까지는 인덱스에 `metadata` 필드를 포함해야 한다.</div>"
   ]
  },
  {
   "cell_type": "code",
   "execution_count": null,
   "id": "2e5c78ca",
   "metadata": {
    "scrolled": true
   },
   "outputs": [],
   "source": [
    "query = \"무신정변을 일으켜 무신정권을 수립한 무신 3명은?\"  \n",
    "\n",
    "docs = vector_store.semantic_hybrid_search(\n",
    "    query=query,\n",
    "    search_type=\"semantic_hybrid\",\n",
    ")\n",
    "\n",
    "for doc in docs:\n",
    "    print(doc.metadata[\"sourcepage\"])\n",
    "    print(doc.metadata[\"@search.score\"])\n",
    "    print(doc.page_content)"
   ]
  },
  {
   "cell_type": "markdown",
   "id": "3e916c2d",
   "metadata": {},
   "source": []
  }
 ],
 "metadata": {
  "kernelspec": {
   "display_name": "Python 3 (ipykernel)",
   "language": "python",
   "name": "python3"
  },
  "language_info": {
   "codemirror_mode": {
    "name": "ipython",
    "version": 3
   },
   "file_extension": ".py",
   "mimetype": "text/x-python",
   "name": "python",
   "nbconvert_exporter": "python",
   "pygments_lexer": "ipython3",
   "version": "3.10.13"
  }
 },
 "nbformat": 4,
 "nbformat_minor": 5
}
