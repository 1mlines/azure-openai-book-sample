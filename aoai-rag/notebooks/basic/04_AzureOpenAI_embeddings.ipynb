{
 "cells": [
  {
   "cell_type": "markdown",
   "id": "eb299f82-f4b1-4f85-9195-07724f6dd4cb",
   "metadata": {},
   "source": [
    "# Azure OpenAI Service Embeddings 기초\n",
    "임베딩(Embeddings)은 머신러닝 분야에서 사용하는 특별한 데이터 타입이다. 임베딩은 텍스트가 가진 의미를 고밀도의 정보로 표기한다. 각각의 임베딩은 부동 소수점 벡터이며, 벡터 공간에서 2개의 임베딩 사이의 거리는 임베딩의 원본인 텍스트 간 의미적 유사성과 연관이 있다. 이처럼 벡터를 사용하면 2개의 텍스트가 얼마나 비슷한지 계산할 수 있다."
   ]
  },
  {
   "cell_type": "markdown",
   "id": "38c68a5b",
   "metadata": {},
   "source": [
    "## 사전 준비\n",
    "\n",
    "이 파이썬 예제를 실행하려면 다음과 같은 환경이 필요하다:\n",
    "\n",
    "- Azure OpenAI Service를 사용할 수 있는 [승인 완료](https://aka.ms/oai/access)된 Azure 구독\n",
    "- Azure OpenAI Service에 배포된 Embeddings 모델\n",
    "- Azure OpenAI Service 연동 및 모델 정보\n",
    "  - OpenAI API 키\n",
    "  - OpenAI Embeddings 모델의 배포 이름. 여기서는 기본값인 `text-embedding-ada-002`를 사용한다.\n",
    "  - OpenAI API 버전\n",
    "- Python (이 예제는 버전 3.10.x로 테스트 했다.)\n",
    "\n",
    "이 예제에서는 Visual Studio Code와 [Jupyter extension](https://marketplace.visualstudio.com/items?itemName=ms-toolsai.jupyter)를 사용한다.\n"
   ]
  },
  {
   "cell_type": "markdown",
   "id": "1e7c8bef",
   "metadata": {},
   "source": [
    "## 패키지 설치\n"
   ]
  },
  {
   "cell_type": "code",
   "execution_count": null,
   "id": "da1d9bbd-e2b9-451a-a872-56f19430d0e6",
   "metadata": {
    "scrolled": true
   },
   "outputs": [],
   "source": [
    "!pip install openai"
   ]
  },
  {
   "cell_type": "code",
   "execution_count": null,
   "id": "3c6ef945-8aa3-4538-8bf7-662c01bdf397",
   "metadata": {
    "scrolled": true
   },
   "outputs": [],
   "source": [
    "import openai\n",
    "openai.__version__"
   ]
  },
  {
   "cell_type": "markdown",
   "id": "524420cf",
   "metadata": {},
   "source": [
    "## 라이브러리 및 환경변수 불러오기\n"
   ]
  },
  {
   "cell_type": "markdown",
   "id": "502b043a-044b-458e-9626-7c4cda992103",
   "metadata": {},
   "source": [
    "## Azure OpenAI 설정\n",
    "Azure OpenAI와 연동을 위해 필요한 정보는 보안을 위해 하드코딩 하지 말고 환경변수나 [dotenv](https://pypi.org/project/python-dotenv/)로 불러오는 것을 권장한다."
   ]
  },
  {
   "cell_type": "code",
   "execution_count": null,
   "id": "7daa9e2f-58ba-427d-9634-2d83bff3ff8e",
   "metadata": {},
   "outputs": [],
   "source": [
    "import os\n",
    "from dotenv import load_dotenv\n",
    "load_dotenv()\n",
    "\n",
    "#os.environ[\"AZURE_OPENAI_API_KEY\"] = \"Your OpenAI API Key\"\n",
    "#os.environ[\"AZURE_OPENAI_ENDPOINT\"] = \"https://<Your OpenAI Service>.openai.azure.com/\"\n",
    "\n",
    "# 이 변수에는 모델을 배포했을 때 설정한 커스텀 이름을 입력한다.\n",
    "AZURE_OPENAI_DEPLOYMENT_NAME = \"text-embedding-ada-002\""
   ]
  },
  {
   "cell_type": "markdown",
   "id": "3dafb36d",
   "metadata": {},
   "source": [
    "## 벡터 간 거리 계산하기\n",
    "벡터 간 거리를 계산할 때는 코사인 유사도를 주로 사용한다. 다음은 2개의 벡터 간 코사인 유사도를 계산하는 코드다."
   ]
  },
  {
   "cell_type": "code",
   "execution_count": null,
   "id": "46a44770",
   "metadata": {},
   "outputs": [],
   "source": [
    "# 필요한 라이브러리를 설치한다.\n",
    "#!pip install numpy matplotlib scikit-learn"
   ]
  },
  {
   "cell_type": "code",
   "execution_count": null,
   "id": "dd1c47be",
   "metadata": {},
   "outputs": [],
   "source": [
    "import numpy as np\n",
    "import matplotlib.pyplot as plt\n",
    "\n",
    "def calc_cosine_similarity(v1, v2):\n",
    "    dot_product = np.dot(v1, v2)\n",
    "    norm_v1 = np.linalg.norm(v1)\n",
    "    norm_v2 = np.linalg.norm(v2)\n",
    "    cos = dot_product / (norm_v1 * norm_v2)\n",
    "    return cos\n",
    "\n",
    "v1 = np.array([1, 0])\n",
    "v2 = np.array([1, 1])\n",
    "\n",
    "cosine_similarity = calc_cosine_similarity(v1, v2)\n",
    "\n",
    "print(\"코사인 유사도: \", cosine_similarity)\n",
    "print(\"코사인 거리: \", 1 - cosine_similarity)"
   ]
  },
  {
   "cell_type": "code",
   "execution_count": null,
   "id": "8e3a5106",
   "metadata": {},
   "outputs": [],
   "source": [
    "def plot_vectors(vectors, labels):\n",
    "    \"\"\"\n",
    "    지정한 벡터를 2차원 그래프에 나타내고, 레이블을 표시하는 함수 \n",
    "    \n",
    "    Parameters:\n",
    "    vectors (list of numpy.ndarray): 그래프에 나타낼 벡터 목록\n",
    "    labels (list of str): 벡터 레이블 목록\n",
    "    \"\"\"\n",
    "    # 그래프 설정\n",
    "    plt.figure()\n",
    "    colors = ['b', 'r', 'g', 'c', 'm', 'y']  # 벡터마다 다른 색을 사용한다.\n",
    "    for i, vector in enumerate(vectors):\n",
    "        plt.quiver(0, 0, vector[0], vector[1], angles='xy', scale_units='xy', scale=1, color=colors[i], label=labels[i])\n",
    "        plt.text(vector[0] + 0.1, vector[1] + 0.1, f'{labels[i]} ({vector[0]}, {vector[1]})', color=colors[i], fontsize=12)\n",
    "\n",
    "    # 그래프 설정(정사각형으로 조정)\n",
    "    plt.axis(\"square\")\n",
    "\n",
    "    # 그래프 설정(레이블, 축의 범위 등)\n",
    "    plt.xlim(-2, 2)\n",
    "    plt.ylim(-2, 2)\n",
    "    plt.xlabel('X')\n",
    "    plt.ylabel('Y')\n",
    "    plt.axhline(0, color='black',linewidth=0.5)\n",
    "    plt.axvline(0, color='black',linewidth=0.5)\n",
    "    plt.grid(color = 'gray', linestyle = '--', linewidth = 0.5)\n",
    "    plt.legend()\n",
    "\n",
    "    # 그래프 표시\n",
    "    plt.show()"
   ]
  },
  {
   "cell_type": "code",
   "execution_count": null,
   "id": "fb7a77f8",
   "metadata": {},
   "outputs": [],
   "source": [
    "# 벡터 정의\n",
    "v1 = np.array([1, 0])\n",
    "v2 = np.array([1, 1])\n",
    "\n",
    "# 벡터 레이블\n",
    "labels = ['v1', 'v2']\n",
    "\n",
    "# 함수를 호출하여 벡터 그리기\n",
    "plot_vectors([v1, v2], labels)"
   ]
  },
  {
   "cell_type": "markdown",
   "id": "774762f7",
   "metadata": {},
   "source": [
    "## Embeddings API 사용하기\n",
    "\n",
    "텍스트를 임베딩 모델에 전달하면 텍스트는 일련의 부동소수점으로 변환된다. 이 변환된 값을 로컬에 저장하거나 애저의 데이터 저장소에 저장해서 벡터 검색을 확장할 수 있다."
   ]
  },
  {
   "cell_type": "code",
   "execution_count": null,
   "id": "e64ce810",
   "metadata": {},
   "outputs": [],
   "source": [
    "from openai import AzureOpenAI\n",
    "\n",
    "client = AzureOpenAI(\n",
    "  api_key=os.getenv(\"AZURE_OPENAI_API_KEY\"),\n",
    "  api_version=\"2024-02-01\",\n",
    "  azure_endpoint=os.getenv(\"AZURE_OPENAI_ENDPOINT\"),\n",
    ")\n",
    "\n",
    "def generate_embeddings(text, model=AZURE_OPENAI_DEPLOYMENT_NAME): # model = \"deployment_name\"\n",
    "    return client.embeddings.create(input = [text], model=model).data[0].embedding\n"
   ]
  },
  {
   "cell_type": "code",
   "execution_count": null,
   "id": "4d0aa063",
   "metadata": {},
   "outputs": [],
   "source": [
    "text_1 = \"저는 노르웨이 숲 고양이가 좋아요.\"\n",
    "text_2 = \"저는 러시안 블루 고양이를 좋아해요.\"\n",
    "\n",
    "embeddings_1 = generate_embeddings(text_1)\n",
    "embeddings_2 = generate_embeddings(text_2)\n",
    "\n",
    "embeddings_1"
   ]
  },
  {
   "cell_type": "markdown",
   "id": "abda37fc",
   "metadata": {},
   "source": [
    "### 2개의 벡터 간 코사인 유사도 계산하기\n",
    "코사인 유사도는 1에 가까울수록 유사한 의미를 가진다."
   ]
  },
  {
   "cell_type": "code",
   "execution_count": null,
   "id": "8df00400",
   "metadata": {},
   "outputs": [],
   "source": [
    "print(calc_cosine_similarity(embeddings_1, embeddings_2))"
   ]
  },
  {
   "cell_type": "code",
   "execution_count": null,
   "metadata": {},
   "outputs": [],
   "source": [
    "print(calc_cosine_similarity(embeddings_1, embeddings_1))"
   ]
  },
  {
   "cell_type": "code",
   "execution_count": null,
   "id": "7a062950",
   "metadata": {},
   "outputs": [],
   "source": [
    "text_3 = \"저는 푸들이 좋아요.\"\n",
    "\n",
    "embeddings_3 = generate_embeddings(text_3)\n",
    "print(calc_cosine_similarity(embeddings_1, embeddings_3))"
   ]
  },
  {
   "cell_type": "code",
   "execution_count": null,
   "id": "7905ddc0",
   "metadata": {},
   "outputs": [],
   "source": [
    "text_4 = \"저는 Azure AI Search를 사용해서 RAG 시스템을 만들었어요.\"\n",
    "\n",
    "embeddings_4 = generate_embeddings(text_4)\n",
    "print(calc_cosine_similarity(embeddings_3, embeddings_4))"
   ]
  },
  {
   "cell_type": "markdown",
   "id": "04c2cab8",
   "metadata": {},
   "source": [
    "## K-means를 사용한 군집화\n",
    "K-means를 사용하는 가장 간단한 방법을 살펴보자. 군집화는 데이터 내부에 숨겨진 중요한 그룹들을 발견하는 데 도움이 된다."
   ]
  },
  {
   "cell_type": "code",
   "execution_count": null,
   "id": "4f2bc880",
   "metadata": {},
   "outputs": [],
   "source": [
    "from sklearn.cluster import KMeans\n",
    "# K-Means 군집화 실행\n",
    "# 군집의 수는 간단한 예시를 만들기 위해 3으로 설정했다. 실제로는 데이터에 따라 적절하게 변경해야 한다.\n",
    "kmeans = KMeans(n_clusters=3, random_state=0)\n",
    "data = np.array([embeddings_1, embeddings_2, embeddings_3, embeddings_4])\n",
    "clusters = kmeans.fit_predict(data)\n",
    "clusters"
   ]
  },
  {
   "cell_type": "markdown",
   "id": "d11857f5",
   "metadata": {},
   "source": [
    "### Embeddings 시각화(군집화)\n",
    "1,536 차원의 벡터를 가진 데이터를 2차원 좌표상에 나타낼 때는 차원축소를 사용하는 것이 좋다. 단, 여기서는 예시 데이터의 수(4개)가 매우 적기 때문에 제한된 결과만 제공한다는 점에 유의해야 한다. 아래 링크를 참고하여 예시 데이터 수를 늘려서 데이터의 전체적인 모습을 파악해보길 바란다."
   ]
  },
  {
   "cell_type": "code",
   "execution_count": null,
   "id": "d4d7aaf7",
   "metadata": {},
   "outputs": [],
   "source": [
    "from sklearn.decomposition import PCA\n",
    "\n",
    "def plot_pca_2d(data, labels, clusters):\n",
    "    \"\"\"\n",
    "    2차원 PCA를 사용해서 데이터를 나타내는 함수\n",
    "    \n",
    "    :param data: 2차원으로 축소할 고차원 데이터(numpy 배열)\n",
    "    :param labels: 각 데이터 포인트에 해당하는 레이블 목록\n",
    "    :param clusters: 각 데이터 포인트의 군집 할당(정수 배열)\n",
    "    \"\"\"\n",
    "    if len(data) != len(labels):\n",
    "        raise ValueError(\"데이터 포인트 수와 레이블 수가 일치하지 않습니다.\")\n",
    "\n",
    "    # PCA를 사용해서 2차원으로 축소\n",
    "    pca = PCA(n_components=2)\n",
    "    reduced_data = pca.fit_transform(data)\n",
    "\n",
    "    # 결과 시각화(군집별로 다른 색상 사용)\n",
    "    plt.scatter(reduced_data[:, 0], reduced_data[:, 1], c=clusters)\n",
    "    for i, (x, y) in enumerate(reduced_data):\n",
    "        plt.text(x, y, labels[i], fontsize=9)\n",
    "\n",
    "    plt.xlabel('x')\n",
    "    plt.ylabel('y')\n",
    "    plt.title('2D PCA Visualization with Clusters')\n",
    "    plt.show()"
   ]
  },
  {
   "cell_type": "code",
   "execution_count": null,
   "id": "5d40ec86",
   "metadata": {},
   "outputs": [],
   "source": [
    "data = np.array([embeddings_1, embeddings_2, embeddings_3, embeddings_4])\n",
    "labels = ['Norwegian Forest', 'Scottish Fold', 'Poodle', 'Azure AI Search']\n",
    "plot_pca_2d(data, labels, clusters)"
   ]
  },
  {
   "cell_type": "markdown",
   "id": "0f9cc1c7",
   "metadata": {},
   "source": [
    "대량의 데이터셋을 사용한 Embeddings 변환 및 벡터 검색은 [Docs](https://learn.microsoft.com/azure/ai-services/openai/tutorials/embeddings?tabs=python-new%2Ccommand-line&pivots=programming-language-python)나 [00_DataIngest_AzureAISearch_PythonSDK.ipynb](../00_DataIngest_AzureAISearch_PythonSDK.ipynb)을 참고하자."
   ]
  }
 ],
 "metadata": {
  "kernelspec": {
   "display_name": "Python 3 (ipykernel)",
   "language": "python",
   "name": "python3"
  },
  "language_info": {
   "codemirror_mode": {
    "name": "ipython",
    "version": 3
   },
   "file_extension": ".py",
   "mimetype": "text/x-python",
   "name": "python",
   "nbconvert_exporter": "python",
   "pygments_lexer": "ipython3",
   "version": "3.10.13"
  }
 },
 "nbformat": 4,
 "nbformat_minor": 5
}
