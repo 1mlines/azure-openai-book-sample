{
 "cells": [
  {
   "cell_type": "markdown",
   "id": "eb299f82-f4b1-4f85-9195-07724f6dd4cb",
   "metadata": {},
   "source": [
    "# Azure AI Document Intelligence 기초\n",
    "Azure AI Document Intelligence는 머신러닝 모델을 사용해서 문서로부터 키-값 쌍과 텍스트, 테이블을 추출하는 서비스다. 이 노트북에서는 [레이아웃 모델](https://learn.microsoft.com/azure/ai-services/document-intelligence/concept-layout) `prebuilt-layout`을 사용해서 PDF에서 데이터를 추출한다. 최신 API 버전에서는 마크다운 형식으로 출력하는 기능도 지원한다.\n",
    "\n",
    "https://learn.microsoft.com/azure/ai-services/document-intelligence/concept-layout\n"
   ]
  },
  {
   "cell_type": "markdown",
   "id": "38c68a5b",
   "metadata": {},
   "source": [
    "# 사전 준비\n",
    "이 파이썬 예제를 실행하려면 다음과 같은 환경이 필요하다:\n",
    "- [Azure AI Document Intelligence 리소스](https://learn.microsoft.com/azure/ai-services/document-intelligence/create-document-intelligence-resource)의 엔드포인트와 키가 필요하다.\n",
    "- [Python](https://www.python.org/downloads/release/python-31011/)(이 예제는 버전 3.10.x로 테스트 했다.)\n",
    "\n",
    "이 예제에서는 Visual Studio Code와 [Jupyter extension](https://marketplace.visualstudio.com/items?itemName=ms-toolsai.jupyter)를 사용한다."
   ]
  },
  {
   "cell_type": "markdown",
   "id": "1e7c8bef",
   "metadata": {},
   "source": [
    "## 패키지 설치"
   ]
  },
  {
   "cell_type": "code",
   "execution_count": null,
   "id": "da1d9bbd-e2b9-451a-a872-56f19430d0e6",
   "metadata": {
    "scrolled": true
   },
   "outputs": [],
   "source": [
    "\n",
    "!pip install azure-identity==1.15.0\n",
    "!pip install azure-ai-formrecognizer==3.3.2\n",
    "!pip install jsonpickle"
   ]
  },
  {
   "cell_type": "code",
   "execution_count": null,
   "id": "3c6ef945-8aa3-4538-8bf7-662c01bdf397",
   "metadata": {
    "scrolled": true
   },
   "outputs": [],
   "source": [
    "import azure.ai.formrecognizer\n",
    "print(\"azure.ai.formrecognizer\", azure.ai.formrecognizer.__VERSION__)"
   ]
  },
  {
   "cell_type": "markdown",
   "id": "524420cf",
   "metadata": {},
   "source": [
    "## 라이브러리 및 환경변수 불러오기"
   ]
  },
  {
   "cell_type": "code",
   "execution_count": null,
   "id": "94c62e8d-9891-4fde-a989-9bb040e1558f",
   "metadata": {},
   "outputs": [],
   "source": [
    "from azure.core.credentials import AzureKeyCredential"
   ]
  },
  {
   "cell_type": "markdown",
   "id": "8c014e02",
   "metadata": {},
   "source": [
    "## 연동 설정"
   ]
  },
  {
   "cell_type": "code",
   "execution_count": null,
   "id": "77742973",
   "metadata": {},
   "outputs": [],
   "source": [
    "# Azure AI Document Intelligence\n",
    "document_intelligence_key: str = \"<Your document intelligence key>\"\n",
    "document_intelligence_endpoint: str = \"<Your document intelligence endpoint>\"\n",
    "document_intelligence_creds: str = AzureKeyCredential(document_intelligence_key)"
   ]
  },
  {
   "cell_type": "markdown",
   "id": "17044ffb",
   "metadata": {},
   "source": [
    "# PDF 문서 구조 추출\n",
    "PDF에 OCR을 사용하는 [레이아웃 모델](https://learn.microsoft.com/azure/ai-services/document-intelligence/concept-layout) `prebuilt-layout`은 고도화된 머신러닝 기반 문서 분석 API다. 이 API를 사용하면 다양한 형식의 문서를 구조화된 데이터로 반환받을 수 있다. 이 API는 마이크로소프트가 가진 강력한 광학문자인식(OCR) 기능과 딥러닝 모델을 결합하여 텍스트, 테이블, (체크 박스)선택 표시, 문서 구조를 추출한다."
   ]
  },
  {
   "cell_type": "code",
   "execution_count": null,
   "id": "2a0b8683",
   "metadata": {},
   "outputs": [],
   "source": [
    "from azure.ai.formrecognizer import DocumentAnalysisClient\n",
    "import jsonpickle\n",
    "\n",
    "# formatting function\n",
    "def format_polygon(polygon):\n",
    "    if not polygon:\n",
    "        return \"N/A\"\n",
    "    return \", \".join([\"[{}, {}]\".format(p.x, p.y) for p in polygon])\n",
    "\n",
    "document_analysis_client = DocumentAnalysisClient(\n",
    "    endpoint=document_intelligence_endpoint, credential=document_intelligence_creds\n",
    ")\n",
    "\n",
    "# URL로 분석하는 경우\n",
    "# poller = document_analysis_client.begin_analyze_document_from_url(\"prebuilt-layout\", formUrl)\n",
    "\n",
    "# sample document\n",
    "filename = \"../../data/최충헌.pdf\"\n",
    "\n",
    "with open(filename, \"rb\") as f:\n",
    "    poller = document_analysis_client.begin_analyze_document(\"prebuilt-layout\", document = f)\n",
    "\n",
    "result = poller.result()"
   ]
  },
  {
   "cell_type": "markdown",
   "id": "be4c58b8",
   "metadata": {},
   "source": [
    "### Debug 용 코드\n",
    "\n",
    "[jsonpickle](https://pypi.org/project/jsonpickle/) 라이브러리를 사용하면 `AnalyzeResult` 객체 구조와 일치하는 JSON을 저장할 수 있다. Document Intelligence의 분석 데이터로 이것저것 시도해보고 싶을 때 유용하다."
   ]
  },
  {
   "cell_type": "code",
   "execution_count": null,
   "id": "28ba4fc0",
   "metadata": {},
   "outputs": [],
   "source": [
    "# Debug 용(AnalyzeResult의 객체 구조를 유지하며 JSON으로 변환)\n",
    "json_data = jsonpickle.encode(result)\n",
    "with open('analyzed_data.json', \"w\", encoding='utf-8') as f:\n",
    "    f.write(json_data)\n",
    "\n",
    "# JSON으로부터 객체 구조 복원\n",
    "# f = open(\"analyzed_data.json\")\n",
    "# json_str = f.read()\n",
    "# result = jsonpickle.decode(json_str)"
   ]
  },
  {
   "cell_type": "markdown",
   "id": "234b0f16",
   "metadata": {},
   "source": [
    "## 텍스트 줄의 필기 스타일\n",
    "응답에는 각 텍스트 줄의 필기 스타일 여부와 신뢰도 점수가 들어있다."
   ]
  },
  {
   "cell_type": "code",
   "execution_count": null,
   "id": "e753b73e",
   "metadata": {},
   "outputs": [],
   "source": [
    "for idx, style in enumerate(result.styles):\n",
    "    print(\n",
    "        \"Document contains {} content\".format(\n",
    "            \"handwritten\" if style.is_handwritten else \"no handwritten\"\n",
    "        )\n",
    "    )"
   ]
  },
  {
   "cell_type": "markdown",
   "id": "c3a07542",
   "metadata": {},
   "source": [
    "## 페이지\n",
    "페이지 컬렉션은 서비스 응답에 있는 첫 번째 객체다. 레이아웃 모델은 인쇄 및 필기 스타일 텍스트를 `lines`와 `words`로 추출한다. 이 모델에서는 추출된 단어의 경계 다각형(`polygon`) 좌표와 `confidence`를 출력한다.\n",
    "\n",
    "### 선택 표시\n",
    "문서에서 선택 표시도 추출할 수 있다. 추출된 선택 표시는 각 페이지인 `pages` 컬렉션 안에 있다.\n",
    "이 컬렉션 안에는 경계 다각형(`polygon`), `confidence`, `state`(`selected/unselected`)가 포함되어 있다. 연관 텍스트(추출된 경우)도 시작 인덱스(`offset`)와 `length`로 포함된다. `length`는 문서 텍스트 전체를 포함한 최상위 `content` 프로퍼티를 참조한다."
   ]
  },
  {
   "cell_type": "code",
   "execution_count": null,
   "id": "44bb2db5",
   "metadata": {},
   "outputs": [],
   "source": [
    "for page in result.pages:\n",
    "    print(\"----Analyzing layout from page #{}----\".format(page.page_number))\n",
    "    print(\n",
    "        \"Page has width: {} and height: {}, measured with unit: {}\".format(\n",
    "            page.width, page.height, page.unit\n",
    "        )\n",
    "    )\n",
    "\n",
    "    for line_idx, line in enumerate(page.lines):\n",
    "        words = line.get_words()\n",
    "        print(\n",
    "            \"...Line # {} has word count {} and text '{}' within bounding polygon '{}'\".format(\n",
    "                line_idx,\n",
    "                len(words),\n",
    "                line.content,\n",
    "                format_polygon(line.polygon),\n",
    "            )\n",
    "        )\n",
    "\n",
    "        for word in words:\n",
    "            print(\n",
    "                \"......Word '{}' has a confidence of {}\".format(\n",
    "                    word.content, word.confidence\n",
    "                )\n",
    "            )\n",
    "\n",
    "    for selection_mark in page.selection_marks:\n",
    "        print(\n",
    "            \"...Selection mark is '{}' within bounding polygon '{}' and has a confidence of {}\".format(\n",
    "                selection_mark.state,\n",
    "                format_polygon(selection_mark.polygon),\n",
    "                selection_mark.confidence,\n",
    "            )\n",
    "        )"
   ]
  },
  {
   "cell_type": "markdown",
   "id": "77a7be3a",
   "metadata": {},
   "source": [
    "## 테이블\n",
    "레이아웃 모델은 JSON으로 출력된 `pageResults` 섹션에 테이블을 추출한다. 추출된 테이블 정보에는 행과 열의 수 및 행과 열의 범위가 포함된다. 경계 다각형이 있는 각 셀은 셀의 영역이 `columnHeader`으로 인식됐는지 여부와 상관없이 정보와 함께 출력된다. 이 모델에서는 회전 테이블 추출을 지원한다. 각 테이블 셀에는 행과 열의 인덱스와 경계 다각형 좌표가 포함되어 있다. 셀 텍스트의 경우 모델은 시작 인덱스(`offset`)가 포함된 `span` 정보를 출력한다."
   ]
  },
  {
   "cell_type": "code",
   "execution_count": null,
   "id": "5c816022",
   "metadata": {},
   "outputs": [],
   "source": [
    "for table_idx, table in enumerate(result.tables):\n",
    "    print(\n",
    "        \"Table # {} has {} rows and {} columns\".format(\n",
    "            table_idx, table.row_count, table.column_count\n",
    "        )\n",
    "    )\n",
    "    for region in table.bounding_regions:\n",
    "        print(\n",
    "            \"Table # {} location on page: {} is {}\".format(\n",
    "                table_idx,\n",
    "                region.page_number,\n",
    "                format_polygon(region.polygon),\n",
    "            )\n",
    "        )\n",
    "    for cell in table.cells:\n",
    "        print(\n",
    "            \"...Cell[{}][{}] has content '{}'\".format(\n",
    "                cell.row_index,\n",
    "                cell.column_index,\n",
    "                cell.content,\n",
    "            )\n",
    "        )\n",
    "        for region in cell.bounding_regions:\n",
    "            print(\n",
    "                \"...content on page {} is within bounding polygon '{}'\".format(\n",
    "                    region.page_number,\n",
    "                    format_polygon(region.polygon),\n",
    "                )\n",
    "            )"
   ]
  },
  {
   "cell_type": "markdown",
   "id": "bcf85173",
   "metadata": {},
   "source": [
    "## 단락\n",
    "레이아웃 모델은 `analyzeResults`의 최상위 객체로 `paragraphs` 컬렉션에서 식별된 모든 텍스트 블록을 추출한다. 이 컬렉션의 각 항목은 텍스트 블록을 나타내며 추출된 텍스트(`content`)와 경계 다각형(`polygon`) 좌표를 포함한다. `span`은 문서의 텍스트 전체를 포함하는 최상위 `content` 프로퍼티의 텍스트 조각을 가리킨다."
   ]
  },
  {
   "cell_type": "code",
   "execution_count": null,
   "id": "9835b0da",
   "metadata": {},
   "outputs": [],
   "source": [
    "for paragraph_idx, paragraph in enumerate(result.paragraphs):\n",
    "    print(\n",
    "        \"`Paragraph #{}: {}\".format(\n",
    "            paragraph_idx, paragraph.content\n",
    "        )\n",
    "    )"
   ]
  }
 ],
 "metadata": {
  "kernelspec": {
   "display_name": "Python 3 (ipykernel)",
   "language": "python",
   "name": "python3"
  },
  "language_info": {
   "codemirror_mode": {
    "name": "ipython",
    "version": 3
   },
   "file_extension": ".py",
   "mimetype": "text/x-python",
   "name": "python",
   "nbconvert_exporter": "python",
   "pygments_lexer": "ipython3",
   "version": "3.10.13"
  }
 },
 "nbformat": 4,
 "nbformat_minor": 5
}
