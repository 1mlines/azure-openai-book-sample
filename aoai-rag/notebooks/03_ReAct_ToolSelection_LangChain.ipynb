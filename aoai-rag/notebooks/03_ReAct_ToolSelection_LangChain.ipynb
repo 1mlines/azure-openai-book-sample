{
 "cells": [
  {
   "cell_type": "markdown",
   "id": "eb299f82-f4b1-4f85-9195-07724f6dd4cb",
   "metadata": {},
   "source": [
    "# ReAct ToolSelection approach with Azure AI Search\n",
    "이 노트북에서는 ReAct를 활용해서 툴을 선택하는 기능을 사용해 볼 것이다. 사용자의 질문에 어떤 정보가 부족한지 확인하기 위해 여러차례 질문을 반복하며 평가하고 모든 정보가 수집되면 응답을 생성한다. ReAct로 툴의 **설명(description)**에만 의존하여 사용할 툴을 결정한다.\n",
    "\n",
    "예제 코드에서는 두 가지 툴(Azure AI Search, CSV 룩업)을 사용해서 정보를 검색한다. 에이전트 처리는 LangChain의 **ZERO_SHOT_REACT_DESCRIPTION** 에이전트로 구현한다. 예제에는 무신 카페 검색용 CSV 파일을 검색하는 코드가 작성되어 있다."
   ]
  },
  {
   "cell_type": "markdown",
   "id": "38c68a5b",
   "metadata": {},
   "source": [
    "# 사전 준비\n",
    "이 파이썬 예제를 실행하려면 다음과 같은 환경이 필요하다:\n",
    "- Azure AI Search 리소스의 엔드포인트 및 쿼리 API 키\n",
    "- Azure OpenAI Service를 사용할 수 있는 [승인 완료](https://aka.ms/oai/access)된 Azure 구독\n",
    "- Azure OpenAI Service에 배포된 `text-embedding-ada-002` Embeddings 모델. 이 모델의 API 버전은 `2023-05-15`을 사용했다. 배포 이름은 모델 이름과 동일하게 `text-embedding-ada-002`로 명명했다.\n",
    "- Azure OpenAI Service 연동 및 모델 정보\n",
    "  - OpenAI API 키\n",
    "  - OpenAI Embeddings 모델의 배포 이름\n",
    "  - OpenAI API 버전\n",
    "- Python (이 예제는 버전 3.10.x로 테스트 했다.)\n",
    "\n",
    "이 예제에서는 Visual Studio Code와 [Jupyter extension](https://marketplace.visualstudio.com/items?itemName=ms-toolsai.jupyter)를 사용한다."
   ]
  },
  {
   "cell_type": "markdown",
   "id": "1e7c8bef",
   "metadata": {},
   "source": [
    "## 패키지 설치"
   ]
  },
  {
   "cell_type": "code",
   "execution_count": null,
   "id": "da1d9bbd-e2b9-451a-a872-56f19430d0e6",
   "metadata": {
    "scrolled": true
   },
   "outputs": [],
   "source": [
    "!pip install azure-search-documents==11.4.0\n",
    "!pip install openai\n",
    "!pip install langchain==0.0.350"
   ]
  },
  {
   "cell_type": "code",
   "execution_count": null,
   "id": "3c6ef945-8aa3-4538-8bf7-662c01bdf397",
   "metadata": {},
   "outputs": [],
   "source": [
    "import azure.search.documents\n",
    "print(\"azure.search.documents\", azure.search.documents.__version__)\n",
    "import langchain\n",
    "print(\"langchain\", langchain.__version__)"
   ]
  },
  {
   "cell_type": "markdown",
   "id": "524420cf",
   "metadata": {},
   "source": [
    "## 라이브러리 및 환경변수 불러오기"
   ]
  },
  {
   "cell_type": "code",
   "execution_count": null,
   "id": "94c62e8d-9891-4fde-a989-9bb040e1558f",
   "metadata": {},
   "outputs": [],
   "source": [
    "import csv\n",
    "from azure.core.credentials import AzureKeyCredential  \n",
    "from azure.search.documents import SearchClient\n",
    "from azure.search.documents.models import (\n",
    "    VectorizedQuery\n",
    ")\n",
    "\n",
    "from langchain.agents import (\n",
    "    AgentType,\n",
    "    Tool,\n",
    "    initialize_agent,\n",
    ")\n",
    "from langchain.agents.mrkl import prompt\n",
    "from langchain.chat_models import AzureChatOpenAI\n",
    "#from langchain.chat_models import ChatOpenAI\n",
    "from langchain.tools import BaseTool"
   ]
  },
  {
   "cell_type": "markdown",
   "id": "8c014e02",
   "metadata": {},
   "source": [
    "## Azure AI Search 연동 설정"
   ]
  },
  {
   "cell_type": "code",
   "execution_count": null,
   "id": "652d5c38-7c3d-4849-8079-6f4bcc144a2b",
   "metadata": {},
   "outputs": [],
   "source": [
    "service_endpoint: str = \"<Your search service endpoint>\"\n",
    "service_query_key: str = \"<Your search service query key>\"\n",
    "index_name: str = \"gptkbindex\" # 자동 구축시 기본으로 설정\n",
    "\n",
    "credential = AzureKeyCredential(service_query_key)"
   ]
  },
  {
   "cell_type": "markdown",
   "id": "502b043a-044b-458e-9626-7c4cda992103",
   "metadata": {},
   "source": [
    "## Azure OpenAI 설정"
   ]
  },
  {
   "cell_type": "code",
   "execution_count": null,
   "id": "7daa9e2f-58ba-427d-9634-2d83bff3ff8e",
   "metadata": {},
   "outputs": [],
   "source": [
    "AZURE_OPENAI_API_KEY = \"Your OpenAI API Key\"\n",
    "AZURE_OPENAI_ENDPOINT = \"https://<Your OpenAI Service>.openai.azure.com/\"\n",
    "AZURE_OPENAI_CHATGPT_DEPLOYMENT = \"chat\" # 자동 구축시 기본으로 설정\n",
    "AZURE_OPENAI_EMB_DEPLOYMENT=\"embedding\" # 자동 구축시 기본으로 설정"
   ]
  },
  {
   "cell_type": "code",
   "execution_count": null,
   "id": "6bd993d8-5d4b-4c58-a793-709f58731a95",
   "metadata": {},
   "outputs": [],
   "source": [
    "from openai import AzureOpenAI\n",
    "from tenacity import retry, wait_random_exponential, stop_after_attempt  \n",
    "\n",
    "openai_client = AzureOpenAI(\n",
    "  api_key = AZURE_OPENAI_API_KEY,  \n",
    "  api_version = \"2024-02-01\",\n",
    "  azure_endpoint = AZURE_OPENAI_ENDPOINT\n",
    ")\n",
    "\n",
    "@retry(wait=wait_random_exponential(min=1, max=20), stop=stop_after_attempt(6))\n",
    "# title 필드와 content 필드의 Embeddings를 생성하는 함수\n",
    "def generate_embeddings(text, model=AZURE_OPENAI_EMB_DEPLOYMENT):\n",
    "    return openai_client.embeddings.create(input = [text], model=model).data[0].embedding"
   ]
  },
  {
   "cell_type": "markdown",
   "id": "d6e941b0",
   "metadata": {},
   "source": [
    "# 무신 검색 툴의 Retrieve 구현\n",
    "무신 검색 툴은 Azure AI Search와 연동하여 검색 결과를 반환한다."
   ]
  },
  {
   "cell_type": "code",
   "execution_count": null,
   "id": "07852f0e-1944-4024-a56d-11b7fb52ac4f",
   "metadata": {},
   "outputs": [],
   "source": [
    "def retrieve(query_text: str):\n",
    "    search_client = SearchClient(service_endpoint, index_name, credential=credential)\n",
    "    docs = search_client.search(\n",
    "        search_text=query_text,\n",
    "        filter=None,\n",
    "        top=3,\n",
    "        vector_queries=[VectorizedQuery(vector=generate_embeddings(query_text), k_nearest_neighbors=3, fields=\"embedding\")]\n",
    "    )\n",
    "    results =[doc['sourcepage'] + \": \" + nonewlines(doc['content']) for doc in docs]\n",
    "    content = \"\\n\".join(results)\n",
    "    return content\n",
    "    \n",
    "def nonewlines(s: str) -> str:\n",
    "    return s.replace('\\n', ' ').replace('\\r', ' ').replace('[', '【').replace(']', '】')"
   ]
  },
  {
   "cell_type": "markdown",
   "id": "109977a9",
   "metadata": {},
   "source": [
    "# 카페 검색 툴 정의\n",
    "카페 검색 툴은 CSV 룩업을 사용해서 쿼리에 해당 카페 정보를 반환한다."
   ]
  },
  {
   "cell_type": "code",
   "execution_count": null,
   "id": "ad12a08f-5d60-4352-94a3-78814759edff",
   "metadata": {},
   "outputs": [],
   "source": [
    "class CafeSearchTool(BaseTool):\n",
    "    data: dict[str, str] = {}\n",
    "    name = \"CafeSearchTool\"\n",
    "    description = \"무신과 연관된 카페를 검색하는 데 특화된 도구입니다. 카페 검색 쿼리에는 무신의 **이름**만 입력해주세요.\"\n",
    "\n",
    "    # Use the tool synchronously.\n",
    "    def _run(self, query: str) -> str:\n",
    "        filename = \"data/restaurantinfo.csv\"\n",
    "        key_field = \"name\"\n",
    "        try:\n",
    "            with open(filename, newline='', encoding='utf-8') as csvfile:\n",
    "                reader = csv.DictReader(csvfile)\n",
    "                for row in reader:\n",
    "                    self.data[row[key_field]] =  \"\\n\".join([f\"{i}:{row[i]}\" for i in row])\n",
    "\n",
    "        except Exception as e:\n",
    "            print(\"File read error:\", e)\n",
    "\n",
    "        return self.data.get(query, \"\")"
   ]
  },
  {
   "cell_type": "markdown",
   "id": "a96f77f7",
   "metadata": {},
   "source": [
    "# Tool 정의\n",
    "사용할 툴은 아래 2개로, 각각의 툴은 서로 다른 2종류의 방식으로 기술한다.\n",
    "- 무신 검색 툴: Tool dataclass 방식을 사용해서 tools 안에 직접 기술\n",
    "- 카페 검색 툴: BaseTool 클래스의 하위 클래스로 `CafeSearchTool`를 정의해서 기술"
   ]
  },
  {
   "cell_type": "code",
   "execution_count": null,
   "id": "07257ea6-b85f-4dcd-b02b-1dd8bd039b87",
   "metadata": {},
   "outputs": [],
   "source": [
    "# Tool dataclass 방식과 Subclassing the BaseTool class 방식의 차이점\n",
    "tools = [\n",
    "    Tool(name=\"PeopleSearchTool\",\n",
    "        func=retrieve,\n",
    "        coroutine=retrieve,\n",
    "        description=\"한국사 인물 정보 검색에 유용합니다. 사용자의 질문으로부터 검색 쿼리를 생성해서 검색을 수행합니다. 쿼리는 문자열만 받습니다.\"\n",
    "        ),\n",
    "    CafeSearchTool()\n",
    "]"
   ]
  },
  {
   "cell_type": "markdown",
   "id": "def3eb45",
   "metadata": {},
   "source": [
    "# LLM 정의"
   ]
  },
  {
   "cell_type": "code",
   "execution_count": null,
   "id": "0faa34ce-b96c-456a-a88a-f05d67778091",
   "metadata": {},
   "outputs": [],
   "source": [
    "llm = AzureChatOpenAI(\n",
    "    azure_deployment=AZURE_OPENAI_CHATGPT_DEPLOYMENT,\n",
    "    api_version=\"2024-02-01\",\n",
    "    azure_endpoint=AZURE_OPENAI_ENDPOINT,\n",
    "    openai_api_key=AZURE_OPENAI_API_KEY,\n",
    "    #azure_ad_token_provider=self.openai_ad_token,\n",
    "    temperature=0.0,\n",
    ")"
   ]
  },
  {
   "cell_type": "code",
   "execution_count": null,
   "id": "7095879b-90dd-4339-990c-11d5ca547aee",
   "metadata": {},
   "outputs": [],
   "source": [
    "q = \"정중부, 이고와 함께 무신정변을 일으킨 인물의 이름과 이 인물의 출신지에 있는 카페의 이름을 알려줘.\""
   ]
  },
  {
   "cell_type": "markdown",
   "id": "d78c9ca5",
   "metadata": {},
   "source": [
    "# Agent 정의 및 실행"
   ]
  },
  {
   "cell_type": "code",
   "execution_count": null,
   "id": "c6d563d8-a667-4050-88ab-3773c38cd71e",
   "metadata": {},
   "outputs": [],
   "source": [
    "SUFFIX = \"\"\"\n",
    "Answer should be in Korean.\n",
    "\"\"\"\n",
    "agent_chain = initialize_agent(\n",
    "    tools,\n",
    "    llm,\n",
    "    agent=AgentType.ZERO_SHOT_REACT_DESCRIPTION,\n",
    "    #agent=AgentType.OPENAI_FUNCTIONS,\n",
    "    verbose=True,\n",
    "    agent_kwargs=dict(suffix=SUFFIX + prompt.SUFFIX),\n",
    "    handle_parsing_errors=True,\n",
    "    max_iterations=5,\n",
    "    early_stopping_method=\"generate\",\n",
    ")\n",
    "\n",
    "result = agent_chain.run(q)\n",
    "result"
   ]
  }
 ],
 "metadata": {
  "kernelspec": {
   "display_name": "Python 3 (ipykernel)",
   "language": "python",
   "name": "python3"
  },
  "language_info": {
   "codemirror_mode": {
    "name": "ipython",
    "version": 3
   },
   "file_extension": ".py",
   "mimetype": "text/x-python",
   "name": "python",
   "nbconvert_exporter": "python",
   "pygments_lexer": "ipython3",
   "version": "3.10.13"
  }
 },
 "nbformat": 4,
 "nbformat_minor": 5
}
